{
 "cells": [
  {
   "cell_type": "markdown",
   "metadata": {},
   "source": [
    "# Bachelor Thesis\n",
    "\n",
    "## LoRa Time on Air"
   ]
  },
  {
   "cell_type": "code",
   "execution_count": 10,
   "metadata": {},
   "outputs": [],
   "source": [
    "class LoraConf:\n",
    "    preamble_len = 12\n",
    "    crc = True\n",
    "    sf = 7 # [7..12]\n",
    "    cr = 1 # [0..4]: coding-rate is calculated as follows: 4/(4+cr)\n",
    "    bw = 125_000\n",
    "    def __init__(self, preamble_len = 12, crc = True, sf = 7, cr = 1, bw = 125_000):\n",
    "        self.preamble_len = preamble_len\n",
    "        self.crc = crc\n",
    "        self.sf = sf\n",
    "        self.cr = cr\n",
    "        self.bw = bw\n",
    "\n",
    "lora_conf = LoraConf(8, True, 7, 1, 125_000)"
   ]
  },
  {
   "cell_type": "markdown",
   "metadata": {},
   "source": [
    "Implement time on air (ToA) calculation as described in [STM32WL5X reference manual](https://www.st.com/content/ccc/resource/technical/document/reference_manual/group0/34/ea/c6/91/75/6f/45/27/DM00451556/files/DM00451556.pdf/jcr:content/translations/en.DM00451556.pdf)"
   ]
  },
  {
   "cell_type": "code",
   "execution_count": 11,
   "metadata": {},
   "outputs": [],
   "source": [
    "def ceil(frac, base):\n",
    "    return ((frac // base) + 1 ) * base\n",
    "\n",
    "def lora_time_on_air(lora_conf, user_payload_bytes):\n",
    "    nb_payload_symbols_frac = ((user_payload_bytes * 8 + int(lora_conf.crc) * 16 - 4 * (lora_conf.sf - 7)) * (4 + lora_conf.cr)) / (4 * lora_conf.sf)\n",
    "    nb_payload_symbols = ceil(nb_payload_symbols_frac, lora_conf.cr + 4)\n",
    "    return (lora_conf.preamble_len + nb_payload_symbols + 4.25 + 8) * (2**lora_conf.sf / lora_conf.bw)"
   ]
  },
  {
   "cell_type": "markdown",
   "metadata": {},
   "source": [
    "### ToA calculations\n",
    "\n",
    "#### Ping_t\n",
    "```c\n",
    "typedef struct {\n",
    "    uint8_t device_id;\n",
    "    uint_t packet_id;\n",
    "} Ping_t;\n",
    "```\n",
    "#### AnchorResponse_t\n",
    "```c\n",
    "typedef struct {\n",
    "    char anchor_id;\n",
    "    int16_t recv_rssi;\n",
    "} AnchorResponse_t;\n",
    "```\n",
    "#### Ack_t\n",
    "```c\n",
    "typedef struct {\n",
    "    char anchor_id;\n",
    "    uint8_t packet_id;\n",
    "} Ack_t;\n",
    "```"
   ]
  },
  {
   "cell_type": "code",
   "execution_count": 12,
   "metadata": {},
   "outputs": [
    {
     "name": "stdout",
     "output_type": "stream",
     "text": [
      "ToA(Ping_t) = 30.976ms\n",
      "ToA(AnchorResponse_t) = 30.976ms\n",
      "ToA(Ack_t) = 30.976ms\n"
     ]
    }
   ],
   "source": [
    "print(f\"ToA(Ping_t) = {lora_time_on_air(lora_conf, 2) * 1000}ms\")\n",
    "print(f\"ToA(AnchorResponse_t) = {lora_time_on_air(lora_conf, 3) * 1000}ms\")\n",
    "print(f\"ToA(Ack_t) = {lora_time_on_air(lora_conf, 2) * 1000}ms\")"
   ]
  },
  {
   "cell_type": "markdown",
   "metadata": {},
   "source": []
  }
 ],
 "metadata": {
  "kernelspec": {
   "display_name": "usr",
   "language": "python",
   "name": "python3"
  },
  "language_info": {
   "codemirror_mode": {
    "name": "ipython",
    "version": 3
   },
   "file_extension": ".py",
   "mimetype": "text/x-python",
   "name": "python",
   "nbconvert_exporter": "python",
   "pygments_lexer": "ipython3",
   "version": "3.11.2"
  }
 },
 "nbformat": 4,
 "nbformat_minor": 2
}
